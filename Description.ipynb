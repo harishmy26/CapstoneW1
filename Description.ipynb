{
 "cells": [
  {
   "cell_type": "markdown",
   "metadata": {},
   "source": [
    "# PART 01"
   ]
  },
  {
   "cell_type": "markdown",
   "metadata": {},
   "source": [
    "## A description of problem and discison on background"
   ]
  },
  {
   "cell_type": "markdown",
   "metadata": {},
   "source": [
    "Where in Rio de Janerio would be the best to open a resturant. What is the place that has the most reviews, what location seems to be the most popular. Is there a type of resturant that is more popular than any other?\n",
    "\n",
    "The problem will be solved by using the Foursquare API, looking at the user count and tip count. This problem will help everyone who wants to open a resturant in Rio de Janerio and wants to know if it is a viable option that they intend on opening"
   ]
  },
  {
   "cell_type": "markdown",
   "metadata": {},
   "source": [
    "## PART 02"
   ]
  },
  {
   "cell_type": "markdown",
   "metadata": {},
   "source": [
    "The data that will be used in Foursquare data for Rio de Janerio city. It will focus on venues of resturant type. The popularity will be an indicator for how good an area in for a resturant"
   ]
  },
  {
   "cell_type": "code",
   "execution_count": null,
   "metadata": {},
   "outputs": [],
   "source": []
  }
 ],
 "metadata": {
  "kernelspec": {
   "display_name": "Python 3",
   "language": "python",
   "name": "python3"
  },
  "language_info": {
   "codemirror_mode": {
    "name": "ipython",
    "version": 3
   },
   "file_extension": ".py",
   "mimetype": "text/x-python",
   "name": "python",
   "nbconvert_exporter": "python",
   "pygments_lexer": "ipython3",
   "version": "3.7.6"
  }
 },
 "nbformat": 4,
 "nbformat_minor": 4
}
